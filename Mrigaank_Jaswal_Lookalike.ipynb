{
 "cells": [
  {
   "cell_type": "markdown",
   "id": "ded66aff",
   "metadata": {},
   "source": [
    "# Load the datasets"
   ]
  },
  {
   "cell_type": "code",
   "execution_count": 1,
   "id": "d91cd2be",
   "metadata": {},
   "outputs": [],
   "source": [
    "import pandas as pd\n",
    "from sklearn.preprocessing import StandardScaler\n",
    "from sklearn.metrics.pairwise import cosine_similarity"
   ]
  },
  {
   "cell_type": "code",
   "execution_count": 4,
   "id": "c1e30fd7",
   "metadata": {},
   "outputs": [],
   "source": [
    "# Storing the Paths\n",
    "customersFilePath = 'Datasets/Customers.csv'\n",
    "productsFilePath = 'Datasets/Products.csv'\n",
    "transactionsFilePath = 'Datasets/Transactions.csv'"
   ]
  },
  {
   "cell_type": "code",
   "execution_count": 5,
   "id": "6586503c",
   "metadata": {},
   "outputs": [],
   "source": [
    "# Load datasets\n",
    "customers_df = pd.read_csv(customersFilePath)\n",
    "products_df = pd.read_csv(productsFilePath)\n",
    "transactions_df = pd.read_csv(transactionsFilePath)"
   ]
  },
  {
   "cell_type": "markdown",
   "id": "aef67cd1",
   "metadata": {},
   "source": [
    "# Merge datasets and rename columns to avoid conflicts"
   ]
  },
  {
   "cell_type": "code",
   "execution_count": 8,
   "id": "9ef7a312",
   "metadata": {},
   "outputs": [],
   "source": [
    "# Merge datasets and rename columns to avoid conflicts\n",
    "merged_df = transactions_df.merge(customers_df, on=\"CustomerID\").merge(products_df, on=\"ProductID\")\n",
    "merged_df = merged_df.rename(columns={\"Price_x\": \"TransactionPrice\", \"Price_y\": \"ProductPrice\"})"
   ]
  },
  {
   "cell_type": "markdown",
   "id": "7001a4d1",
   "metadata": {},
   "source": [
    "# Feature Engineering: Aggregate purchase history"
   ]
  },
  {
   "cell_type": "code",
   "execution_count": 9,
   "id": "2cf77321",
   "metadata": {},
   "outputs": [],
   "source": [
    "customer_features = merged_df.groupby(\"CustomerID\").agg({\n",
    "    \"TransactionPrice\": \"sum\",  # Total money spent\n",
    "    \"ProductID\": \"nunique\",  # Unique products purchased\n",
    "    \"Quantity\": \"sum\"  # Total quantity bought\n",
    "}).reset_index()"
   ]
  },
  {
   "cell_type": "markdown",
   "id": "0d08416e",
   "metadata": {},
   "source": [
    "# Normalize data"
   ]
  },
  {
   "cell_type": "code",
   "execution_count": 10,
   "id": "c7151918",
   "metadata": {},
   "outputs": [],
   "source": [
    "scaler = StandardScaler()\n",
    "customer_scaled = scaler.fit_transform(customer_features.iloc[:, 1:])"
   ]
  },
  {
   "cell_type": "markdown",
   "id": "2772f72c",
   "metadata": {},
   "source": [
    "# Compute Similarity Matrix\n"
   ]
  },
  {
   "cell_type": "code",
   "execution_count": 11,
   "id": "62c2ad92",
   "metadata": {},
   "outputs": [],
   "source": [
    "similarity_matrix = cosine_similarity(customer_scaled)\n",
    "customer_ids = customer_features[\"CustomerID\"].tolist()"
   ]
  },
  {
   "cell_type": "code",
   "execution_count": 12,
   "id": "1dfeb478",
   "metadata": {},
   "outputs": [],
   "source": [
    "# Function to get top-N similar customers\n",
    "def get_top_similar(customer_id, top_n=3):\n",
    "    idx = customer_ids.index(customer_id)\n",
    "    scores = list(enumerate(similarity_matrix[idx]))\n",
    "    scores = sorted(scores, key=lambda x: x[1], reverse=True)[1:top_n+1]  # Exclude self\n",
    "    return [(customer_ids[i], round(score, 4)) for i, score in scores]"
   ]
  },
  {
   "cell_type": "markdown",
   "id": "23dc7583",
   "metadata": {},
   "source": [
    "# Generate Lookalike.csv"
   ]
  },
  {
   "cell_type": "code",
   "execution_count": 15,
   "id": "c8eb1882",
   "metadata": {},
   "outputs": [],
   "source": [
    "\n",
    "lookalike_dict = {cust: get_top_similar(cust) for cust in customer_ids[:20]}\n",
    "lookalike_df = pd.DataFrame(list(lookalike_dict.items()), columns=[\"CustomerID\", \"SimilarCustomers\"])\n",
    "lookalike_df.to_csv(\"Mrigaank_Jaswal_Lookalike.csv\", index=False)"
   ]
  },
  {
   "cell_type": "code",
   "execution_count": 16,
   "id": "1d44f4bd",
   "metadata": {},
   "outputs": [
    {
     "name": "stdout",
     "output_type": "stream",
     "text": [
      "  CustomerID                                   SimilarCustomers\n",
      "0      C0001  [(C0191, 0.9782), (C0137, 0.972), (C0069, 0.95...\n",
      "1      C0002   [(C0029, 1.0), (C0031, 0.9945), (C0035, 0.9944)]\n",
      "2      C0003  [(C0010, 0.95), (C0176, 0.9397), (C0027, 0.9285)]\n",
      "3      C0004  [(C0105, 0.9985), (C0057, 0.9978), (C0109, 0.9...\n",
      "4      C0005  [(C0058, 0.9998), (C0123, 0.9996), (C0128, 0.9...\n"
     ]
    }
   ],
   "source": [
    "# Print sample output\n",
    "print(lookalike_df.head())"
   ]
  },
  {
   "cell_type": "code",
   "execution_count": null,
   "id": "8ad84c59",
   "metadata": {},
   "outputs": [],
   "source": []
  }
 ],
 "metadata": {
  "kernelspec": {
   "display_name": "Python 3 (ipykernel)",
   "language": "python",
   "name": "python3"
  },
  "language_info": {
   "codemirror_mode": {
    "name": "ipython",
    "version": 3
   },
   "file_extension": ".py",
   "mimetype": "text/x-python",
   "name": "python",
   "nbconvert_exporter": "python",
   "pygments_lexer": "ipython3",
   "version": "3.11.4"
  }
 },
 "nbformat": 4,
 "nbformat_minor": 5
}
